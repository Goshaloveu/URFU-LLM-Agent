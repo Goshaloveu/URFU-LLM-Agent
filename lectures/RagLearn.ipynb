{
 "cells": [
  {
   "cell_type": "markdown",
   "id": "34c778dc",
   "metadata": {},
   "source": [
    "# Пособие по работе с **rag** системой"
   ]
  },
  {
   "cell_type": "markdown",
   "id": "86550801",
   "metadata": {},
   "source": [
    "## Мы рассмотрим:\n",
    "\n",
    "* Авторизацию в Yandex Cloud\n",
    "* Работу с файлами: загрузка, выгрузка, хранение\n",
    "* Поиск по данным (векторный/семантический)\n",
    "* Интеграцию с YandexGPT для контекстного ответа (RAG)"
   ]
  },
  {
   "cell_type": "markdown",
   "id": "2b9ac839",
   "metadata": {},
   "source": [
    "## Что такое RAG ?"
   ]
  },
  {
   "cell_type": "markdown",
   "id": "3ecb3b3c",
   "metadata": {},
   "source": [
    "**RAG** (Retrieval-Augmented Generation) — это архитектура, где:\n",
    "\n",
    "1. Сначала из внешнего источника (базы знаний, файлов, БД) извлекаются релевантные фрагменты данных (retrieval).\n",
    "2. Затем эти фрагменты подставляются в промпт языковой модели (например, YandexGPT), чтобы она сгенерировала ответ на основе контекста.\n",
    "\n",
    "Это позволяет получать точные, актуальные и основанные на ваших данных ответы, даже если модель сама не знает этих данных."
   ]
  },
  {
   "cell_type": "markdown",
   "id": "b2b09dce",
   "metadata": {},
   "source": [
    "## 1. Авторизация в Yandex Cloud"
   ]
  },
  {
   "cell_type": "markdown",
   "id": "21774b20",
   "metadata": {},
   "source": [
    "### Для работы с API Yandex Cloud необходимо:"
   ]
  },
  {
   "cell_type": "markdown",
   "id": "c992a157",
   "metadata": {},
   "source": [
    "**1. Создать сервисный аккаунт**\n",
    "* Зайдите в Yandex Cloud Console\n",
    "* Перейдите в раздел IAM → Сервисные аккаунты\n",
    "* Создайте новый сервисный аккаунт, например: rag-service-account\n",
    "* Назначьте ему роли:\n",
    "    * ai.languageModels.user — для вызова YandexGPT\n",
    "    * storage.editor — для работы с Object Storage\n",
    "    * serverless.functions.invoker — если используете функции\n",
    "    * (опционально) ai.foundationModels.user — для эмбеддингов\n",
    "\n",
    "**2. Создать статический ключ доступа**\n",
    "* В консоли: выберите созданный сервисный аккаунт → Авторизационные ключи → Создать новый ключ\n",
    "* Выберите API-ключ или OAuth-токен (рекомендуется API-ключ для автоматизации)\n",
    "* Сохраните key_id и secret — они понадобятся для SDK\n",
    "\n",
    "**3. Установите Yandex Cloud SDK**\n",
    ">pip install yandexcloud\n",
    "\n",
    "**4. Авторизация в коде (Python)**"
   ]
  },
  {
   "cell_type": "code",
   "execution_count": null,
   "id": "c4c5fe9a",
   "metadata": {
    "vscode": {
     "languageId": "plaintext"
    }
   },
   "outputs": [],
   "source": [
    "from yandex.cloud.iam.v1 import iam_token_service_pb2, iam_token_service_pb2_grpc\n",
    "from yandex.cloud.ai.foundation_models.v1 import text_embedding_service_pb2_grpc, text_embedding_service_pb2\n",
    "from yandex.cloud.ai.stt.v3 import stt_service_pb2_grpc, stt_service_pb2\n",
    "import grpc\n",
    "import os\n",
    "\n",
    "# Загрузка ключей из .env\n",
    "from dotenv import load_dotenv\n",
    "load_dotenv()\n",
    "\n",
    "YC_API_KEY = os.getenv(\"YC_API_KEY\")\n",
    "\n",
    "def get_iam_token(api_key):\n",
    "    channel = grpc.secure_channel('iam.api.cloud.yandex.net:443', grpc.ssl_channel_credentials())\n",
    "    stub = iam_token_service_pb2_grpc.IamTokenServiceStub(channel)\n",
    "    request = iam_token_service_pb2.CreateIamTokenRequest(yandex_passport_oauth_token=api_key)\n",
    "    response = stub.Create(request)\n",
    "    return response.iam_token\n",
    "\n",
    "IAM_TOKEN = get_iam_token(YC_API_KEY)"
   ]
  },
  {
   "cell_type": "markdown",
   "id": "3919b8b0",
   "metadata": {},
   "source": [
    "## 2. Работа с файлами: Object Storage"
   ]
  },
  {
   "cell_type": "markdown",
   "id": "5dcbe1b0",
   "metadata": {},
   "source": [
    "Yandex Cloud предоставляет **Object Storage** — аналог S3 для хранения файлов."
   ]
  },
  {
   "cell_type": "markdown",
   "id": "75bd9e37",
   "metadata": {},
   "source": [
    "**1. Создайте бакет**\n",
    "* В консоли: Object Storage → Создать бакет\n",
    "* Имя: rag-documents-bucket\n",
    "* Тип: Холодное хранилище (если редкий доступ) или Стандартное\n",
    "* ACL: Публичный доступ — нет"
   ]
  },
  {
   "cell_type": "markdown",
   "id": "87e1dbeb",
   "metadata": {},
   "source": [
    "**2. Установите библиотеку**\n",
    ">pip install boto3"
   ]
  },
  {
   "cell_type": "markdown",
   "id": "62db4ab4",
   "metadata": {},
   "source": [
    "**3. Загрузка файла в бакет**"
   ]
  },
  {
   "cell_type": "code",
   "execution_count": null,
   "id": "59be5f03",
   "metadata": {
    "vscode": {
     "languageId": "plaintext"
    }
   },
   "outputs": [],
   "source": [
    "import boto3\n",
    "from botocore.config import Config\n",
    "\n",
    "def get_s3_client(iam_token, folder_id):\n",
    "    config = Config(signature_version='s3v4')\n",
    "    s3 = boto3.client(\n",
    "        's3',\n",
    "        endpoint_url='https://storage.yandexcloud.net',\n",
    "        aws_access_key_id=iam_token,\n",
    "        aws_secret_access_key='',\n",
    "        region_name='ru-central1',\n",
    "        config=config\n",
    "    )\n",
    "    return s3\n",
    "\n",
    "# Пример загрузки\n",
    "s3 = get_s3_client(IAM_TOKEN, FOLDER_ID)\n",
    "s3.upload_file('local_file.txt', 'rag-documents-bucket', 'remote/path/file.txt')"
   ]
  },
  {
   "cell_type": "markdown",
   "id": "240060eb",
   "metadata": {},
   "source": [
    "**4. Скачивание файла**"
   ]
  },
  {
   "cell_type": "code",
   "execution_count": null,
   "id": "2a3e0337",
   "metadata": {
    "vscode": {
     "languageId": "plaintext"
    }
   },
   "outputs": [],
   "source": [
    "s3.download_file('rag-documents-bucket', 'remote/path/file.txt', 'local_copy.txt')"
   ]
  },
  {
   "cell_type": "markdown",
   "id": "091b18a0",
   "metadata": {},
   "source": [
    "## 3. Поиск по данным: векторные эмбеддинги"
   ]
  },
  {
   "cell_type": "markdown",
   "id": "3be9bf95",
   "metadata": {},
   "source": [
    "    Для RAG нужно преобразовать текст в векторы и искать похожие.\n",
    "\n",
    "**1. Получение эмбеддингов через Yandex Embeddings API**"
   ]
  },
  {
   "cell_type": "code",
   "execution_count": null,
   "id": "4e3c4331",
   "metadata": {
    "vscode": {
     "languageId": "plaintext"
    }
   },
   "outputs": [],
   "source": [
    "import grpc\n",
    "\n",
    "EMBEDDING_MODEL_URI = \"emb://<folder-id>/text-search-query/latest\"  # или text-search-doc\n",
    "\n",
    "def get_embeddings(texts, iam_token, folder_id):\n",
    "    channel = grpc.secure_channel('llm.api.cloud.yandex.net:443', grpc.ssl_channel_credentials())\n",
    "    stub = text_embedding_service_pb2_grpc.TextEmbeddingServiceStub(channel)\n",
    "\n",
    "    request = text_embedding_service_pb2.TextEmbeddingRequest(\n",
    "        model_uri=EMBEDDING_MODEL_URI,\n",
    "        texts=texts,\n",
    "        folder_id=folder_id\n",
    "    )\n",
    "\n",
    "    metadata = [('authorization', f'Bearer {iam_token}')]\n",
    "    response = stub.Embed(request, metadata=metadata)\n",
    "\n",
    "    return [embedding.embedding for embedding in response.embeddings]"
   ]
  },
  {
   "cell_type": "markdown",
   "id": "46bbabf8",
   "metadata": {},
   "source": [
    "    Используйте text-search-query для запросов, text-search-doc для документов."
   ]
  },
  {
   "cell_type": "markdown",
   "id": "518b855a",
   "metadata": {},
   "source": [
    "**2. Хранение и поиск эмбеддингов** <br>\n",
    "Рекомендуется использовать векторную БД:\n",
    "* FAISS (локально, для тестов)\n",
    "* Qdrant / Milvus / PGVector (для продакшена)\n",
    "\n",
    "Пример с FAISS:"
   ]
  },
  {
   "cell_type": "code",
   "execution_count": null,
   "id": "36ce4dd6",
   "metadata": {
    "vscode": {
     "languageId": "plaintext"
    }
   },
   "outputs": [],
   "source": [
    "import faiss\n",
    "import numpy as np\n",
    "\n",
    "# Предположим, у вас есть список текстов и их эмбеддинги\n",
    "texts = [\"текст 1\", \"текст 2\", ...]\n",
    "embeddings = get_embeddings(texts, IAM_TOKEN, FOLDER_ID)\n",
    "\n",
    "# Создаём индекс FAISS\n",
    "dimension = len(embeddings[0])\n",
    "index = faiss.IndexFlatL2(dimension)\n",
    "index.add(np.array(embeddings).astype('float32'))\n",
    "\n",
    "# Поиск по запросу\n",
    "query = \"Какой у вас возврат товара?\"\n",
    "query_embedding = get_embeddings([query], IAM_TOKEN, FOLDER_ID)[0]\n",
    "query_embedding = np.array([query_embedding]).astype('float32')\n",
    "\n",
    "distances, indices = index.search(query_embedding, k=3)  # Топ-3 результата\n",
    "\n",
    "for i in indices[0]:\n",
    "    print(f\"Релевантный фрагмент: {texts[i]}\")"
   ]
  },
  {
   "cell_type": "markdown",
   "id": "02c1c6fd",
   "metadata": {},
   "source": [
    "## 4. Интеграция с YandexGPT для RAG"
   ]
  },
  {
   "cell_type": "markdown",
   "id": "f43124bc",
   "metadata": {},
   "source": [
    "Теперь передадим найденные фрагменты в YandexGPT как контекст.\n",
    "\n",
    "**1. Вызов YandexGPT через API**"
   ]
  },
  {
   "cell_type": "code",
   "execution_count": null,
   "id": "2b2f9ba1",
   "metadata": {
    "vscode": {
     "languageId": "plaintext"
    }
   },
   "outputs": [],
   "source": [
    "from yandex.cloud.ai.foundation_models.v1 import completion_service_pb2_grpc, completion_service_pb2\n",
    "\n",
    "GPT_MODEL_URI = \"gpt://<folder-id>/yandexgpt/latest\"\n",
    "\n",
    "def ask_yandexgpt_with_context(iam_token, folder_id, context, question):\n",
    "    channel = grpc.secure_channel('llm.api.cloud.yandex.net:443', grpc.ssl_channel_credentials())\n",
    "    stub = completion_service_pb2_grpc.CompletionServiceStub(channel)\n",
    "\n",
    "    prompt = f\"\"\"\n",
    "    Контекст:\n",
    "    {context}\n",
    "\n",
    "    Вопрос: {question}\n",
    "    Ответь максимально точно, основываясь только на контексте.\n",
    "    \"\"\"\n",
    "\n",
    "    request = completion_service_pb2.CompletionRequest(\n",
    "        model_uri=GPT_MODEL_URI,\n",
    "        completion_options=completion_service_pb2.CompletionOptions(\n",
    "            stream=False,\n",
    "            temperature=0.3,\n",
    "            max_tokens=1000\n",
    "        ),\n",
    "        messages=[\n",
    "            completion_service_pb2.Message(\n",
    "                role=\"system\",\n",
    "                text=\"Ты — помощник, отвечающий на вопросы на основе предоставленного контекста.\"\n",
    "            ),\n",
    "            completion_service_pb2.Message(\n",
    "                role=\"user\",\n",
    "                text=prompt\n",
    "            )\n",
    "        ]\n",
    "    )\n",
    "\n",
    "    metadata = [('authorization', f'Bearer {iam_token}')]\n",
    "    response = stub.Completion(request, metadata=metadata)\n",
    "\n",
    "    return response.result.alternatives[0].message.text"
   ]
  },
  {
   "cell_type": "markdown",
   "id": "d416a7de",
   "metadata": {},
   "source": [
    "**2. Полный RAG-пайплайн**"
   ]
  },
  {
   "cell_type": "code",
   "execution_count": null,
   "id": "0f0950c0",
   "metadata": {
    "vscode": {
     "languageId": "plaintext"
    }
   },
   "outputs": [],
   "source": [
    "def rag_pipeline(question, index, texts, iam_token, folder_id):\n",
    "    # 1. Получить эмбеддинг вопроса\n",
    "    query_embedding = get_embeddings([question], iam_token, folder_id)[0]\n",
    "    query_embedding = np.array([query_embedding]).astype('float32')\n",
    "\n",
    "    # 2. Найти топ-3 релевантных фрагмента\n",
    "    distances, indices = index.search(query_embedding, k=3)\n",
    "    context = \"\\n\\n\".join([texts[i] for i in indices[0]])\n",
    "\n",
    "    # 3. Запрос к YandexGPT с контекстом\n",
    "    answer = ask_yandexgpt_with_context(iam_token, folder_id, context, question)\n",
    "\n",
    "    return answer\n",
    "\n",
    "# Пример использования\n",
    "question = \"Как вернуть товар?\"\n",
    "answer = rag_pipeline(question, index, texts, IAM_TOKEN, FOLDER_ID)\n",
    "print(\"Ответ:\", answer)"
   ]
  },
  {
   "cell_type": "markdown",
   "id": "62bf041e",
   "metadata": {},
   "source": [
    "## 5. Опционально: Автоматизация через Serverless Functions"
   ]
  },
  {
   "cell_type": "markdown",
   "id": "8dca67c1",
   "metadata": {},
   "source": [
    "Вы можете вынести RAG-логику в Yandex Cloud Functions:\n",
    "* HTTP-триггер для API-запросов\n",
    "* Фоновая функция для индексации новых документов\n",
    "* Используйте runtime: python39 и подключите зависимости через requirements.txt\n",
    "\n",
    "Пример requirements.txt:\n",
    ">grpcio>=1.59.0<br>\n",
    ">grpcio-tools>=1.59.0<br>\n",
    ">boto3>=1.28.0<br>\n",
    ">python-dotenv>=1.0.0<br>\n",
    ">numpy>=1.24.0<br>\n",
    ">faiss-cpu>=1.7.4<br>"
   ]
  },
  {
   "cell_type": "markdown",
   "id": "acd65c29",
   "metadata": {},
   "source": [
    "## 6. Безопасность и лучшие практики"
   ]
  },
  {
   "cell_type": "markdown",
   "id": "ea06c10d",
   "metadata": {},
   "source": [
    "* Храните ключи в Secrets Manager или .env\n",
    "* Используйте IAM-роли с минимальными привилегиями\n",
    "* Кэшируйте IAM-токены (обновляйте каждые 11 часов)\n",
    "* Логируйте запросы и ошибки\n",
    "* Ограничьте длину контекста для YandexGPT (до 8K токенов)"
   ]
  },
  {
   "cell_type": "markdown",
   "id": "b51d61aa",
   "metadata": {},
   "source": [
    "## 7. Мониторинг и логирование"
   ]
  },
  {
   "cell_type": "markdown",
   "id": "6ec7ffb7",
   "metadata": {},
   "source": [
    "* Включите логирование в Cloud Logging\n",
    "* Мониторьте использование квот через Billing → Usage\n",
    "* Используйте Yandex Monitoring для алертов"
   ]
  },
  {
   "cell_type": "markdown",
   "id": "383fc7e7",
   "metadata": {},
   "source": [
    "## 8. Расширения"
   ]
  },
  {
   "cell_type": "markdown",
   "id": "e04fe1c6",
   "metadata": {},
   "source": [
    "* Добавьте OCR (через Vision API) для сканированных PDF\n",
    "* Подключите SpeechKit для голосовых запросов\n",
    "* Используйте DataLens для визуализации статистики запросов\n",
    "* Добавьте кэширование ответов (Redis или Object Storage)"
   ]
  },
  {
   "cell_type": "markdown",
   "id": "0f1eed0c",
   "metadata": {},
   "source": [
    "**Пример структуры проекта**\n",
    "\n",
    "rag-yandex/ <br>\n",
    "├── .env <br>\n",
    "├── main.py <br>\n",
    "├── rag_pipeline.py <br>\n",
    "├── storage.py <br>\n",
    "├── embeddings.py <br>\n",
    "├── gpt.py <br>\n",
    "├── requirements.txt <br>\n",
    "└── docs/ <br>\n",
    "    └── (ваши PDF, TXT, DOCX) <br>"
   ]
  },
  {
   "cell_type": "markdown",
   "id": "5a9a4e32",
   "metadata": {},
   "source": [
    "## P.S.\n",
    "Документация Yandex Cloud AI: https://cloud.yandex.ru/docs/foundation-models"
   ]
  }
 ],
 "metadata": {
  "language_info": {
   "name": "python"
  }
 },
 "nbformat": 4,
 "nbformat_minor": 5
}
