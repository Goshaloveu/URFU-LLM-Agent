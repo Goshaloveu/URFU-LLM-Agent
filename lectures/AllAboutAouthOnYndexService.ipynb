{
 "cells": [
  {
   "metadata": {},
   "cell_type": "code",
   "outputs": [],
   "execution_count": null,
   "source": "# Всё о средствах авторизации в сервисах Яндекса",
   "id": "e6c4c98b6daf265"
  },
  {
   "metadata": {},
   "cell_type": "markdown",
   "source": "При развертке на сервисах яндекса **iam** ключ доступен как переменная среды",
   "id": "33fce927f005b023"
  },
  {
   "metadata": {},
   "cell_type": "markdown",
   "source": "## 1. Общие понятия: JWT, IAM, OAuth",
   "id": "4e13e269f4daffc1"
  },
  {
   "metadata": {},
   "cell_type": "markdown",
   "source": "### Что такое JWT?",
   "id": "31557b3fede36cb5"
  },
  {
   "metadata": {},
   "cell_type": "markdown",
   "source": [
    "**JWT (JSON Web Token)** — это стандарт для безопасной передачи информации между сторонами в виде JSON-объекта. Он может быть подписан (с помощью секрета или ключей) и/или зашифрован.\n",
    "\n",
    "Структура JWT:\n",
    ">header.payload.signature"
   ],
   "id": "848fbed8a5a79424"
  },
  {
   "metadata": {},
   "cell_type": "markdown",
   "source": [
    "В Yandex Cloud:\n",
    "* JWT не используется напрямую клиентами, но внутри системы он применяется при обмене токенами.\n",
    "* Для внешних API используются OAuth-токены, IAM-токены, сервисные аккаунты, ключ доступа (access key + secret key)."
   ],
   "id": "f7552f766ae4ca6f"
  },
  {
   "metadata": {},
   "cell_type": "markdown",
   "source": "## 2. Генерация JWT-токена (для получения IAM-токена)",
   "id": "84028ab988fb0130"
  },
  {
   "metadata": {},
   "cell_type": "markdown",
   "source": [
    "**JWT** используется временно для получения **IAM-токена** от **Yandex Cloud** через **OAuth-совместимый эндпоинт**. <br>\n",
    "\n",
    "**Когда нужно генерировать JWT?**<br>\n",
    "Когда вы используете сервисный аккаунт и хотите получить временный IAM-токен без постоянного хранения OAuth-токена."
   ],
   "id": "5f63f96ccce834f0"
  },
  {
   "metadata": {},
   "cell_type": "markdown",
   "source": "#### Шаги:",
   "id": "922ceb6cbe50f31c"
  },
  {
   "metadata": {},
   "cell_type": "markdown",
   "source": "##### 1. Создайте сервисный аккаунт",
   "id": "1861044a0b72a047"
  },
  {
   "metadata": {},
   "cell_type": "markdown",
   "source": [
    "* В консоли Yandex Cloud создайте сервисный аккаунт.\n",
    "* Назначьте ему роли (например, editor, storage.admin, ai.languageModels.user и т.д.)."
   ],
   "id": "eb3495c43648451a"
  },
  {
   "metadata": {},
   "cell_type": "markdown",
   "source": "##### 2. Сгенерируйте пару ключей",
   "id": "12b9b37a6a4741c1"
  },
  {
   "metadata": {},
   "cell_type": "markdown",
   "source": [
    "* В интерфейсе сервисного аккаунта создайте ключ для входа → формат: JSON.\n",
    "* Вы получите файл с:\n",
    "    * service_account_id\n",
    "    * key_algorithm (обычно RSA-2048)\n",
    "    * private_key (в PEM-формате)\n",
    "    * public_key_fingerprint\n",
    "    * id (идентификатор ключа)"
   ],
   "id": "9cfba858cf8ce80a"
  },
  {
   "metadata": {},
   "cell_type": "markdown",
   "source": "##### 3. Сформируйте JWT",
   "id": "a87bb6230d6625bd"
  },
  {
   "metadata": {},
   "cell_type": "markdown",
   "source": "**Header:**",
   "id": "dd8cb413a2494001"
  },
  {
   "metadata": {},
   "cell_type": "code",
   "outputs": [],
   "execution_count": null,
   "source": [
    "{\n",
    "  \"alg\": \"PS256\",\n",
    "  \"kid\": \"KEY_ID\"  // id из JSON-ключа\n",
    "}"
   ],
   "id": "c07f005ed2fe6b1c"
  },
  {
   "metadata": {},
   "cell_type": "markdown",
   "source": "**Payload:**",
   "id": "c0dcdf83d5cc6e9f"
  },
  {
   "metadata": {},
   "cell_type": "code",
   "outputs": [],
   "execution_count": null,
   "source": [
    "{\n",
    "  \"aud\": \"https://iam.api.cloud.yandex.net/iam/v1/tokens\",\n",
    "  \"iss\": \"SERVICE_ACCOUNT_ID\",\n",
    "  \"sub\": \"SERVICE_ACCOUNT_ID\",\n",
    "  \"iat\": UNIX_TIMESTAMP,\n",
    "  \"exp\": UNIX_TIMESTAMP + 3600  // не более часа\n",
    "}"
   ],
   "id": "de3d89bc55dd6876"
  },
  {
   "metadata": {},
   "cell_type": "markdown",
   "source": "##### 4. Подпишите JWT с помощью приватного ключа",
   "id": "d2ca5e66d78adf51"
  },
  {
   "metadata": {},
   "cell_type": "markdown",
   "source": [
    "Используйте алгоритм **PS256** (RSA с SHA-256 и PSS padding).\n",
    "\n",
    "Пример на Python:"
   ],
   "id": "8698129b1a5ab66"
  },
  {
   "metadata": {},
   "cell_type": "code",
   "outputs": [],
   "execution_count": null,
   "source": [
    "import jwt\n",
    "import time\n",
    "\n",
    "def generate_jwt(service_account_id, key_id, private_key):\n",
    "    now = int(time.time())\n",
    "    payload = {\n",
    "        'aud': 'https://iam.api.cloud.yandex.net/iam/v1/tokens',\n",
    "        'iss': service_account_id,\n",
    "        'sub': service_account_id,\n",
    "        'iat': now,\n",
    "        'exp': now + 3600\n",
    "    }\n",
    "    encoded_jwt = jwt.encode(\n",
    "        payload,\n",
    "        private_key,\n",
    "        algorithm='PS256',\n",
    "        headers={'kid': key_id}\n",
    "    )\n",
    "    return encoded_jwt"
   ],
   "id": "d7df7690dbec5de2"
  },
  {
   "metadata": {},
   "cell_type": "markdown",
   "source": "## 3. Получение IAM-токена по JWT",
   "id": "fd335ddab3554f21"
  },
  {
   "metadata": {},
   "cell_type": "markdown",
   "source": "Отправьте JWT на эндпоинт:",
   "id": "9164dc817a488ce6"
  },
  {
   "metadata": {},
   "cell_type": "code",
   "outputs": [],
   "execution_count": null,
   "source": [
    "POST https://iam.api.cloud.yandex.net/iam/v1/tokens\n",
    "Content-Type: application/json\n",
    "\n",
    "{\n",
    "  \"jwt\": \"ваш_подписанный_JWT\"\n",
    "}"
   ],
   "id": "4a2ca6eb9372560e"
  },
  {
   "metadata": {},
   "cell_type": "markdown",
   "source": "Ответ:",
   "id": "e662b18d786bb6b2"
  },
  {
   "metadata": {},
   "cell_type": "code",
   "outputs": [],
   "execution_count": null,
   "source": [
    "{\n",
    "  \"iamToken\": \"t1.9e...\",\n",
    "  \"expiresAt\": \"2024-01-01T00:00:00Z\"\n",
    "}"
   ],
   "id": "3340b0d0c3ce3892"
  },
  {
   "metadata": {},
   "cell_type": "markdown",
   "source": "Этот **iamToken** — временный токен (действует до 12 часов), который можно использовать для вызова API.",
   "id": "8ebca5d4249265ee"
  },
  {
   "metadata": {},
   "cell_type": "markdown",
   "source": "## 4. Варианты авторизации в Yandex Cloud",
   "id": "77419b25d849c8e7"
  },
  {
   "metadata": {},
   "cell_type": "markdown",
   "source": [
    "|метод| назначение| срок жизни|\n",
    "|-|-|-|\n",
    "|IAM-токен|Основной способ для API|До 12 часов|\n",
    "|OAuth-токен|Пользовательская авторизация|1 год (может быть отозван)|\n",
    "|Ключ доступа (Access Key + Secret)|Для S3-совместимых сервисов (YOS)|Бессрочный (если не удалить)|\n",
    "|Service Account + JWT → IAM Token|Автоматизация, серверы|Через JWT каждый час|"
   ],
   "id": "9805385a85db6b12"
  },
  {
   "metadata": {},
   "cell_type": "markdown",
   "source": "## 5. Доступ к Yandex GPT",
   "id": "3ad3a9d3b8204088"
  },
  {
   "metadata": {},
   "cell_type": "markdown",
   "source": [
    "**Требуется:** <br>\n",
    "IAM-токен (временный) <br>\n",
    "Или статический OAuth-токен (не рекомендуется для продакшена) <br>\n",
    "\n",
    "**Эндпоинт:**\n",
    "> POST https://llm.api.cloud.yandex.net/foundationModels/v1/completion\n",
    "\n",
    "**Заголовки:**\n",
    ">Authorization: Bearer \\< IAM-TOKEN \\> <br>\n",
    ">Content-Type: application/json\n",
    "\n",
    "**Пример запроса:**"
   ],
   "id": "ff490ba7471f524d"
  },
  {
   "metadata": {},
   "cell_type": "code",
   "outputs": [],
   "execution_count": null,
   "source": [
    "{\n",
    "  \"modelUri\": \"gpt://<folder-id>/yandexgpt/latest\",\n",
    "  \"completionOptions\": {\n",
    "    \"stream\": false,\n",
    "    \"temperature\": 0.6,\n",
    "    \"maxTokens\": \"1000\"\n",
    "  },\n",
    "  \"messages\": [\n",
    "    {\n",
    "      \"role\": \"system\",\n",
    "      \"text\": \"Ты помощник.\"\n",
    "    },\n",
    "    {\n",
    "      \"role\": \"user\",\n",
    "      \"text\": \"Привет!\"\n",
    "    }\n",
    "  ]\n",
    "}"
   ],
   "id": "18ce313826cc50ac"
  },
  {
   "metadata": {},
   "cell_type": "markdown",
   "source": [
    "## 6. Доступ к Yandex Object Storage (YOS)\n",
    "YOS — S3-совместимое хранилище. Авторизация возможна двумя способами:"
   ],
   "id": "3441aa839ea72c0c"
  },
  {
   "metadata": {},
   "cell_type": "markdown",
   "source": "Ключ доступа (S3-style)",
   "id": "eee3c13d3ae37e11"
  },
  {
   "metadata": {},
   "cell_type": "markdown",
   "source": [
    "**Шаги:**\n",
    "1. Создайте ключ доступа для сервисного аккаунта (в консоли).\n",
    "1. Получите:\n",
    "    * Access Key ID (публичная часть)\n",
    "    * Secret Access Key (приватная)"
   ],
   "id": "a426224a040e43e8"
  },
  {
   "metadata": {},
   "cell_type": "markdown",
   "source": "#### Конфигурация клиента (boto3, AWS CLI):",
   "id": "33de22a5aa5b1145"
  },
  {
   "metadata": {},
   "cell_type": "code",
   "outputs": [],
   "execution_count": null,
   "source": [
    "import boto3\n",
    "\n",
    "s3 = boto3.client(\n",
    "    's3',\n",
    "    endpoint_url='https://storage.yandexcloud.net',\n",
    "    aws_access_key_id='YCA...ID',\n",
    "    aws_secret_access_key='YCK...KEY'\n",
    ")"
   ],
   "id": "5f1fb6a6049a108c"
  },
  {
   "metadata": {},
   "cell_type": "markdown",
   "source": [
    "## Автоматизация: Как обновлять токены?\n",
    "**Для GPT:**\n",
    "* Раз в час генерируйте новый JWT.\n",
    "* Получайте свежий IAM-токен.\n",
    "* Используйте его для запросов к GPT.\n",
    "\n",
    "**Для YOS:**\n",
    "* Если используете ключ доступа — он постоянный.\n",
    "* Если нужна повышенная безопасность — можно вращать ключи программно через IAM API."
   ],
   "id": "bb94ea3a32a0b8b1"
  }
 ],
 "metadata": {},
 "nbformat": 5,
 "nbformat_minor": 9
}
