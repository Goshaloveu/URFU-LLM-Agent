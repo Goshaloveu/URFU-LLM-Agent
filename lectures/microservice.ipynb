{
 "cells": [
  {
   "metadata": {},
   "cell_type": "code",
   "outputs": [],
   "execution_count": null,
   "source": "# Пособие по организации микросервисов для безопасной коммуникации с llm ",
   "id": "34ff88f93fc350b2"
  },
  {
   "metadata": {},
   "cell_type": "markdown",
   "source": "## Структура",
   "id": "f71c9bbfae767b5e"
  },
  {
   "metadata": {},
   "cell_type": "markdown",
   "source": "![graphviz.png](attachment:graphviz.png)",
   "id": "a217290cb2c3f0d"
  },
  {
   "metadata": {},
   "cell_type": "markdown",
   "source": "## Пример ендпоинтов",
   "id": "4345735d49f979b2"
  },
  {
   "metadata": {},
   "cell_type": "markdown",
   "source": [
    "|Сервис| Взаимодействие | Пояснение |\n",
    "|-------|--------------|---------------------------|\n",
    "|Оркестр|POST /process |Принимает запрос от TG-бота|\n",
    "|Валидатор|POST /validate|Проверяет безопасность запроса|\n",
    "|RAG-система|POST /retrieve|Возвращает релевантный контекст|\n",
    "|LLM-агент|POST /generate|Генерирует ответ с контекстом|\n",
    "|TG-бот|Webhook → Оркестр|Передаёт сообщения пользователя|"
   ],
   "id": "7a369ee64f98456d"
  },
  {
   "metadata": {},
   "cell_type": "markdown",
   "source": "## Часть 1: Средства FastAPI — что, зачем и как применять",
   "id": "d023c5a7bbdea082"
  },
  {
   "metadata": {},
   "cell_type": "markdown",
   "source": [
    "|инструмент/фича| что делает | где юзать |\n",
    "|-|-|-|\n",
    "|FastAPI()|Создание приложения|Во всех сервисах|\n",
    "|Pydantic BaseModel|Валидация входных/выходных данных|Все эндпоинты|\n",
    "|Depends()|Внедрение зависимостей (авторизация, логгеры, конфиги)|Везде, особенно в Оркестре и Валидаторе|\n",
    "|HTTPException|Возврат ошибок (403, 422, 500 и т.д.)|Валидатор, Оркестр|\n",
    "|BackgroundTasks|Асинхронные задачи (логирование, уведомления)|Оркестр, LLM-агент|\n",
    "|CORS Middleware|Разрешить запросы с фронтенда / TG-бота|Если есть UI или публичный API|\n",
    "|APIRouter|Модульная маршрутизация (разделение эндпоинтов)|Крупные сервисы (Оркестр, RAG)|\n",
    "|OpenAPI / Swagger UI|Автодокументация API|Все сервисы|\n",
    "|RateLimiter(через slowapi или redis)|Защита от DDoS / злоупотреблений|Валидатор, Оркестр, TG-бот|\n",
    "|JWT / OAuth2PasswordBearer|Авторизация пользователей / сервисов|Оркестр, Валидатор|\n",
    "|Logging + Middleware|Логирование запросов, времени, ошибок|Все сервисы|"
   ],
   "id": "8ca57d60aa9d8eec"
  },
  {
   "metadata": {},
   "cell_type": "markdown",
   "source": "### Примеры:",
   "id": "bae96309defadcf7"
  },
  {
   "metadata": {},
   "cell_type": "markdown",
   "source": "#### Пример: Pydantic модели и эндпоинт в Валидаторе",
   "id": "949c991f2ef02ea8"
  },
  {
   "metadata": {},
   "cell_type": "code",
   "outputs": [],
   "execution_count": null,
   "source": [
    "# models.py\n",
    "from pydantic import BaseModel\n",
    "\n",
    "class ValidationRequest(BaseModel):\n",
    "    user_id: str\n",
    "    text: str\n",
    "    session_id: str = None\n",
    "\n",
    "class ValidationResult(BaseModel):\n",
    "    is_allowed: bool\n",
    "    risk_score: float\n",
    "    tags: list[str] = []\n",
    "    reason: str = None"
   ],
   "id": "dd4e6036cebe0752"
  },
  {
   "metadata": {},
   "cell_type": "code",
   "outputs": [],
   "execution_count": null,
   "source": [
    "# main.py\n",
    "from fastapi import FastAPI, HTTPException\n",
    "from models import ValidationRequest, ValidationResult\n",
    "\n",
    "app = FastAPI(title=\"Валидатор запросов\", version=\"1.0\")\n",
    "\n",
    "@app.post(\"/validate\", response_model=ValidationResult)\n",
    "async def validate_request(req: ValidationRequest):\n",
    "    if \"запрещённое слово\" in req.text.lower():\n",
    "        raise HTTPException(status_code=403, detail=\"Toxic content detected\")\n",
    "    return ValidationResult(\n",
    "        is_allowed=True,\n",
    "        risk_score=0.1,\n",
    "        tags=[\"clean\"]\n",
    "    )"
   ],
   "id": "12044b2395dc3648"
  },
  {
   "metadata": {},
   "cell_type": "markdown",
   "source": "#### Пример: JWT авторизация в Оркестре",
   "id": "69ede8606b187c4f"
  },
  {
   "metadata": {},
   "cell_type": "code",
   "outputs": [],
   "execution_count": null,
   "source": [
    "from fastapi import Depends, HTTPException\n",
    "from fastapi.security import OAuth2PasswordBearer\n",
    "\n",
    "oauth2_scheme = OAuth2PasswordBearer(tokenUrl=\"token\")\n",
    "\n",
    "async def verify_token(token: str = Depends(oauth2_scheme)):\n",
    "    if token != \"SECRET_SERVICE_TOKEN\":\n",
    "        raise HTTPException(status_code=401, detail=\"Invalid token\")\n",
    "    return token\n",
    "\n",
    "@app.post(\"/process\")\n",
    "async def process_request(..., token: str = Depends(verify_token)):\n",
    "    ..."
   ],
   "id": "f85a3a9b66570eed"
  },
  {
   "metadata": {},
   "cell_type": "markdown",
   "source": "#### Пример: Middleware для логирования",
   "id": "372f5572ac7ceece"
  },
  {
   "metadata": {},
   "cell_type": "code",
   "outputs": [],
   "execution_count": null,
   "source": [
    "from fastapi import Request\n",
    "import time\n",
    "\n",
    "@app.middleware(\"http\")\n",
    "async def log_requests(request: Request, call_next):\n",
    "    start_time = time.time()\n",
    "    response = await call_next(request)\n",
    "    duration = time.time() - start_time\n",
    "    print(f\"{request.method} {request.url.path} — {response.status_code} — {duration:.2f}s\")\n",
    "    return response"
   ],
   "id": "1ba77572729f97c2"
  },
  {
   "metadata": {},
   "cell_type": "markdown",
   "source": "#### Пример: Использование APIRouter в RAG-сервисе",
   "id": "33d3190c41bf5735"
  },
  {
   "metadata": {},
   "cell_type": "code",
   "outputs": [],
   "execution_count": null,
   "source": [
    "# routers/retrieve.py\n",
    "from fastapi import APIRouter\n",
    "from models import RetrieveRequest, RetrieveResult\n",
    "\n",
    "router = APIRouter(prefix=\"/rag\", tags=[\"RAG\"])\n",
    "\n",
    "@router.post(\"/retrieve\")\n",
    "async def retrieve_context(req: RetrieveRequest) -> RetrieveResult:\n",
    "    # ... логика поиска\n",
    "    return RetrieveResult(context=[...])"
   ],
   "id": "f205a5a224503bb2"
  },
  {
   "metadata": {},
   "cell_type": "code",
   "outputs": [],
   "execution_count": null,
   "source": [
    "# main.py\n",
    "from routers.retrieve import router as rag_router\n",
    "\n",
    "app.include_router(rag_router)"
   ],
   "id": "1209d6818eb80afa"
  },
  {
   "metadata": {},
   "cell_type": "markdown",
   "source": "## Часть 2: Docker-контейнеры — примеры как можно оформить",
   "id": "ef936a0929aa221c"
  },
  {
   "metadata": {},
   "cell_type": "markdown",
   "source": "Каждый сервис — отдельный контейнер. Структура одинаковая, меняется только CMD и зависимости.",
   "id": "2800cc1340e2ad82"
  },
  {
   "metadata": {},
   "cell_type": "markdown",
   "source": "### Dockerfile (почти универсальный шаблон для всех сервисов)",
   "id": "bba171ee0346e914"
  },
  {
   "metadata": {},
   "cell_type": "code",
   "outputs": [],
   "execution_count": null,
   "source": [
    "# validator/Dockerfile\n",
    "FROM python:3.11-slim\n",
    "\n",
    "WORKDIR /app\n",
    "\n",
    "# Копируем зависимости первыми — для кэширования\n",
    "COPY requirements.txt .\n",
    "RUN pip install --no-cache-dir -r requirements.txt\n",
    "\n",
    "# Копируем код\n",
    "COPY . .\n",
    "\n",
    "# Создаем непривилегированного пользователя\n",
    "RUN adduser --disabled-password --gecos '' appuser\n",
    "USER appuser\n",
    "\n",
    "# Запускаем сервис на порту 8000\n",
    "EXPOSE 8000\n",
    "\n",
    "# Запуск FastAPI через Uvicorn (продакшн-сервер)\n",
    "CMD [\"uvicorn\", \"main:app\", \"--host\", \"0.0.0.0\", \"--port\", \"8000\", \"--workers\", \"2\"]"
   ],
   "id": "5719244cf7041a8e"
  },
  {
   "metadata": {},
   "cell_type": "markdown",
   "source": "### requirements.txt (пример для Валидатора)",
   "id": "641ed1576c9486cc"
  },
  {
   "metadata": {},
   "cell_type": "code",
   "outputs": [],
   "execution_count": null,
   "source": [
    "fastapi==0.110.0\n",
    "uvicorn==0.29.0\n",
    "pydantic==2.6.0\n",
    "python-dotenv==1.0.1\n",
    "transformers  # если используешь ML для модерации\n",
    "torch         # опционально"
   ],
   "id": "184a94f84a5656cc"
  },
  {
   "metadata": {},
   "cell_type": "markdown",
   "source": "### docker-compose.yml — сборка всей системы (если хочешь потестить локально что-то)",
   "id": "41ed266add6264e2"
  },
  {
   "metadata": {},
   "cell_type": "code",
   "outputs": [],
   "execution_count": null,
   "source": [
    "version: '3.8'\n",
    "\n",
    "services:\n",
    "  tg-bot:\n",
    "    build: ./tg-bot\n",
    "    ports:\n",
    "      - \"8001:8000\"\n",
    "    environment:\n",
    "      - TELEGRAM_TOKEN=your_token_here\n",
    "      - ORCHESTRATOR_URL=http://orchestrator:8000\n",
    "    depends_on:\n",
    "      - orchestrator\n",
    "\n",
    "  orchestrator:\n",
    "    build: ./orchestrator\n",
    "    ports:\n",
    "      - \"8002:8000\"\n",
    "    environment:\n",
    "      - VALIDATOR_URL=http://validator:8000\n",
    "      - RAG_URL=http://rag:8000\n",
    "      - LLM_AGENT_URL=http://llm-agent:8000\n",
    "      - SECRET_TOKEN=supersecret\n",
    "    depends_on:\n",
    "      - validator\n",
    "      - rag\n",
    "      - llm-agent\n",
    "\n",
    "  validator:\n",
    "    build: ./validator\n",
    "    ports:\n",
    "      - \"8003:8000\"\n",
    "\n",
    "  rag:\n",
    "    build: ./rag\n",
    "    ports:\n",
    "      - \"8004:8000\"\n",
    "    environment:\n",
    "      - QDRANT_HOST=qdrant\n",
    "      - QDRANT_PORT=6333\n",
    "    depends_on:\n",
    "      - qdrant\n",
    "\n",
    "  llm-agent:\n",
    "    build: ./llm-agent\n",
    "    ports:\n",
    "      - \"8005:8000\"\n",
    "    environment:\n",
    "      - OPENAI_API_KEY=your_key_here\n",
    "\n",
    "  audit-db:\n",
    "    image: postgres:15\n",
    "    environment:\n",
    "      POSTGRES_DB: audit\n",
    "      POSTGRES_USER: user\n",
    "      POSTGRES_PASSWORD: pass\n",
    "    volumes:\n",
    "      - audit_data:/var/lib/postgresql/data\n",
    "    ports:\n",
    "      - \"5432:5432\"\n",
    "\n",
    "volumes:\n",
    "  audit_data:"
   ],
   "id": "2429547ce2096158"
  }
 ],
 "metadata": {},
 "nbformat": 5,
 "nbformat_minor": 9
}
